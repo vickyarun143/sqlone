{
 "cells": [
  {
   "cell_type": "code",
   "execution_count": 1,
   "metadata": {},
   "outputs": [
    {
     "data": {
      "text/plain": [
       "array([ 0. ,  2.5,  5. ,  7.5, 10. ])"
      ]
     },
     "execution_count": 1,
     "metadata": {},
     "output_type": "execute_result"
    }
   ],
   "source": [
    "#indexing and slicing\n",
    "import numpy as np\n",
    "v=np.linspace(0,10,5)\n",
    "v"
   ]
  },
  {
   "cell_type": "code",
   "execution_count": 2,
   "metadata": {},
   "outputs": [
    {
     "data": {
      "text/plain": [
       "(0.0, 2.5, 10.0)"
      ]
     },
     "execution_count": 2,
     "metadata": {},
     "output_type": "execute_result"
    }
   ],
   "source": [
    "v[0],v[1],v[-1]"
   ]
  },
  {
   "cell_type": "code",
   "execution_count": 3,
   "metadata": {},
   "outputs": [
    {
     "data": {
      "text/plain": [
       "array([5. , 7.5])"
      ]
     },
     "execution_count": 3,
     "metadata": {},
     "output_type": "execute_result"
    }
   ],
   "source": [
    "v[2:4]#Right exclusion"
   ]
  },
  {
   "cell_type": "code",
   "execution_count": 4,
   "metadata": {},
   "outputs": [
    {
     "data": {
      "text/plain": [
       "array([[0.13682218, 0.17329953, 0.23987755, 0.28585046],\n",
       "       [0.17282505, 0.65943834, 0.82509698, 0.44619915],\n",
       "       [0.83138044, 0.42129294, 0.12457145, 0.99586747],\n",
       "       [0.71694123, 0.49750148, 0.37518291, 0.89940403],\n",
       "       [0.60802149, 0.08941664, 0.3248018 , 0.32525697]])"
      ]
     },
     "execution_count": 4,
     "metadata": {},
     "output_type": "execute_result"
    }
   ],
   "source": [
    "vv=np.random.random((5,4))\n",
    "vv"
   ]
  },
  {
   "cell_type": "code",
   "execution_count": 5,
   "metadata": {},
   "outputs": [
    {
     "data": {
      "text/plain": [
       "0.13682217901092952"
      ]
     },
     "execution_count": 5,
     "metadata": {},
     "output_type": "execute_result"
    }
   ],
   "source": [
    "vv[0][0]"
   ]
  },
  {
   "cell_type": "code",
   "execution_count": 6,
   "metadata": {},
   "outputs": [
    {
     "data": {
      "text/plain": [
       "(0.13682217901092952, 0.32525696508084734)"
      ]
     },
     "execution_count": 6,
     "metadata": {},
     "output_type": "execute_result"
    }
   ],
   "source": [
    "vv[0,0],vv[4,3]#It's only possible in numpy not in list ie., v[0][0] as v[0,0]"
   ]
  },
  {
   "cell_type": "code",
   "execution_count": 7,
   "metadata": {},
   "outputs": [
    {
     "data": {
      "text/plain": [
       "2"
      ]
     },
     "execution_count": 7,
     "metadata": {},
     "output_type": "execute_result"
    }
   ],
   "source": [
    "ll=[[1,2,3],[4,5,6]]\n",
    "ll[0][1]"
   ]
  },
  {
   "cell_type": "code",
   "execution_count": 8,
   "metadata": {},
   "outputs": [
    {
     "data": {
      "text/plain": [
       "array([[0.13682218, 0.17329953, 0.23987755, 0.28585046],\n",
       "       [0.17282505, 0.65943834, 0.82509698, 0.44619915],\n",
       "       [0.83138044, 0.42129294, 0.12457145, 0.99586747],\n",
       "       [0.71694123, 0.49750148, 0.37518291, 0.89940403],\n",
       "       [0.60802149, 0.08941664, 0.3248018 , 0.32525697]])"
      ]
     },
     "execution_count": 8,
     "metadata": {},
     "output_type": "execute_result"
    }
   ],
   "source": [
    "vv"
   ]
  },
  {
   "cell_type": "code",
   "execution_count": 9,
   "metadata": {},
   "outputs": [
    {
     "data": {
      "text/plain": [
       "array([0.42129294, 0.49750148, 0.08941664])"
      ]
     },
     "execution_count": 9,
     "metadata": {},
     "output_type": "execute_result"
    }
   ],
   "source": [
    "vv[2:5,1]#IT will stretch the data won't give in vertical formate\n",
    "#Row 2 to 5-1 and coloumn 2"
   ]
  },
  {
   "cell_type": "code",
   "execution_count": 10,
   "metadata": {},
   "outputs": [
    {
     "data": {
      "text/plain": [
       "array([[0.83138044, 0.42129294, 0.12457145],\n",
       "       [0.71694123, 0.49750148, 0.37518291],\n",
       "       [0.60802149, 0.08941664, 0.3248018 ]])"
      ]
     },
     "execution_count": 10,
     "metadata": {},
     "output_type": "execute_result"
    }
   ],
   "source": [
    "vv[2:5,0:3]"
   ]
  },
  {
   "cell_type": "code",
   "execution_count": 11,
   "metadata": {},
   "outputs": [
    {
     "data": {
      "text/plain": [
       "array([ 0. ,  2.5,  5. ,  7.5, 10. ])"
      ]
     },
     "execution_count": 11,
     "metadata": {},
     "output_type": "execute_result"
    }
   ],
   "source": [
    "##Copying numpy objects\n",
    "v=np.linspace(0,10,5)\n",
    "v"
   ]
  },
  {
   "cell_type": "code",
   "execution_count": 12,
   "metadata": {},
   "outputs": [
    {
     "name": "stdout",
     "output_type": "stream",
     "text": [
      "[ 0.   2.5  5.   7.5 10. ]\n",
      "[5.  7.5]\n",
      "(array([ 0. ,  2.5, 55. ,  7.5, 10. ]), array([55. ,  7.5]))\n"
     ]
    }
   ],
   "source": [
    "print(v)\n",
    "v2=v[2:4]\n",
    "print(v2)\n",
    "v2[0]=55#This is shallowcopy if we change the value in the subset retrived and made any change that will reflect in the orginal copy if we don't want this to happen use copy() function to have a deep copy\n",
    "#Sallow copy uses the same memory space v2 is the pointer used to point v\n",
    "print(v,v2)#Here the value 55 is changed in v also"
   ]
  },
  {
   "cell_type": "code",
   "execution_count": 13,
   "metadata": {},
   "outputs": [
    {
     "name": "stdout",
     "output_type": "stream",
     "text": [
      "[ 0.   2.5 55.   7.5 10. ]\n",
      "[55.   7.5]\n",
      "(array([ 0. ,  2.5, 55. ,  7.5, 10. ]), array([55. ,  7.5]))\n"
     ]
    }
   ],
   "source": [
    "print(v)\n",
    "v2=v[2:4].copy()\n",
    "print(v2)\n",
    "v2[0]=55#This is shallowcopy if we change the value in the subset retrived and made any change that will reflect in the orginal copy if we don't want this to happen use copy() function to have a deep copy\n",
    "#Shallow copy uses the same memory space v2 is the pointer used to point v\n",
    "print(v,v2)#here v2 is deep copy it will have another memory that won't change value in v"
   ]
  },
  {
   "cell_type": "code",
   "execution_count": 14,
   "metadata": {},
   "outputs": [
    {
     "data": {
      "text/plain": [
       "array([ 0. ,  2.5,  5. ,  7.5, 10. ])"
      ]
     },
     "execution_count": 14,
     "metadata": {},
     "output_type": "execute_result"
    }
   ],
   "source": [
    "#Filtering data\n",
    "v=np.linspace(0,10,5)#Used to generate a number from 0 to 10 in 5 equal parts\n",
    "v\n"
   ]
  },
  {
   "cell_type": "code",
   "execution_count": 15,
   "metadata": {},
   "outputs": [
    {
     "name": "stdout",
     "output_type": "stream",
     "text": [
      "[ 0.   2.5  5.   7.5 10. ]\n",
      "[2.5 7.5]\n"
     ]
    }
   ],
   "source": [
    "print(v)\n",
    "v1=v[[1,3]]#list inside the bracket that list contains value frpm 1 to 3\n",
    "print(v1)"
   ]
  },
  {
   "cell_type": "code",
   "execution_count": 16,
   "metadata": {},
   "outputs": [
    {
     "data": {
      "text/plain": [
       "array([False,  True,  True,  True,  True])"
      ]
     },
     "execution_count": 16,
     "metadata": {},
     "output_type": "execute_result"
    }
   ],
   "source": [
    "v>0#Relational operations are possible in numpy array that will return boolean value"
   ]
  },
  {
   "cell_type": "code",
   "execution_count": 17,
   "metadata": {},
   "outputs": [
    {
     "data": {
      "text/plain": [
       "array([ 7.5, 10. ])"
      ]
     },
     "execution_count": 17,
     "metadata": {},
     "output_type": "execute_result"
    }
   ],
   "source": [
    "bool_ind=v>5#returns value >5\n",
    "v[bool_ind] #numpy array v[condition]"
   ]
  },
  {
   "cell_type": "code",
   "execution_count": 18,
   "metadata": {},
   "outputs": [
    {
     "name": "stdout",
     "output_type": "stream",
     "text": [
      "[[0.13682218 0.17329953 0.23987755 0.28585046]\n",
      " [0.17282505 0.65943834 0.82509698 0.44619915]\n",
      " [0.83138044 0.42129294 0.12457145 0.99586747]\n",
      " [0.71694123 0.49750148 0.37518291 0.89940403]\n",
      " [0.60802149 0.08941664 0.3248018  0.32525697]]\n"
     ]
    },
    {
     "data": {
      "text/plain": [
       "array([0.65943834, 0.82509698, 0.83138044, 0.99586747, 0.71694123,\n",
       "       0.89940403, 0.60802149])"
      ]
     },
     "execution_count": 18,
     "metadata": {},
     "output_type": "execute_result"
    }
   ],
   "source": [
    "print(vv)\n",
    "vv[vv>0.5]#numpy array vv[condition]"
   ]
  },
  {
   "cell_type": "code",
   "execution_count": 19,
   "metadata": {},
   "outputs": [
    {
     "data": {
      "text/plain": [
       "array([[0.13682218, 0.17329953, 0.23987755, 0.28585046],\n",
       "       [0.17282505, 1.        , 1.        , 0.44619915],\n",
       "       [1.        , 0.42129294, 0.12457145, 1.        ],\n",
       "       [1.        , 0.49750148, 0.37518291, 1.        ],\n",
       "       [1.        , 0.08941664, 0.3248018 , 0.32525697]])"
      ]
     },
     "execution_count": 19,
     "metadata": {},
     "output_type": "execute_result"
    }
   ],
   "source": [
    "vv[vv>.5]=1#returns the \"value\" 1 if value in vv > 5\n",
    "vv"
   ]
  },
  {
   "cell_type": "code",
   "execution_count": 20,
   "metadata": {},
   "outputs": [
    {
     "name": "stdout",
     "output_type": "stream",
     "text": [
      "[ 1  2  3  4  5  6  7  8  9 10]\n"
     ]
    },
    {
     "data": {
      "text/plain": [
       "(array([2, 5, 8], dtype=int64),)"
      ]
     },
     "execution_count": 20,
     "metadata": {},
     "output_type": "execute_result"
    }
   ],
   "source": [
    "vals=np.array([1,2,3,4,5,6,7,8,9,10])\n",
    "print(vals)\n",
    "np.where(vals%3==0)#This will return the \"index\" where value %3==0\n",
    "\n"
   ]
  },
  {
   "cell_type": "code",
   "execution_count": 21,
   "metadata": {},
   "outputs": [
    {
     "data": {
      "text/plain": [
       "array([10, -1, 30, -1, 50, -1, 70, -1, 90, -1])"
      ]
     },
     "execution_count": 21,
     "metadata": {},
     "output_type": "execute_result"
    }
   ],
   "source": [
    "vals_new=np.where(vals%2==0,-1,vals*10)#i's like if else\n",
    "#np.where(condition,if true statement,if false)\n",
    "vals_new"
   ]
  },
  {
   "cell_type": "code",
   "execution_count": 22,
   "metadata": {},
   "outputs": [
    {
     "data": {
      "text/plain": [
       "array([[-1,  1, -1,  3, -1],\n",
       "       [ 5, -1,  7, -1,  9],\n",
       "       [-1, 11, -1, 13, -1],\n",
       "       [15, -1, 17, -1, 19]])"
      ]
     },
     "execution_count": 22,
     "metadata": {},
     "output_type": "execute_result"
    }
   ],
   "source": [
    "#Display all odd number in data\n",
    "#Replace all even numbers in data with -1\n",
    "\n",
    "data=np.array([range(5),range(5,10),range(10,15),range(15,20)])#2-D array\n",
    "#data\n",
    "data[data%2 !=0]\n",
    "data[data%2==0]=-1\n",
    "data\n",
    "\n"
   ]
  },
  {
   "cell_type": "code",
   "execution_count": 23,
   "metadata": {},
   "outputs": [
    {
     "data": {
      "text/plain": [
       "array([ 0,  6,  9, 12, 18, 24, 27, 30, 36, 42, 45, 48, 54, 60, 63, 66, 72,\n",
       "       78, 81, 84, 90, 96, 99])"
      ]
     },
     "execution_count": 23,
     "metadata": {},
     "output_type": "execute_result"
    }
   ],
   "source": [
    "data=np.arange(0,100,3)\n",
    "data\n",
    "#Display all values that are multiples of a or multiples of 9\n",
    "#Wrong: data[data%2==0 or data%9==0,data] here and and or won't work \n",
    "#instead use &,| respectively\n",
    "#while using more than one condition use brackets else it won't work\n",
    "data[(data%2==0)|(data%9==0)]\n"
   ]
  },
  {
   "cell_type": "code",
   "execution_count": 54,
   "metadata": {},
   "outputs": [
    {
     "data": {
      "text/plain": [
       "array([[ 1.,  2.,  3.,  4.,  5.],\n",
       "       [ 6.,  7.,  8.,  9., 10.]])"
      ]
     },
     "execution_count": 54,
     "metadata": {},
     "output_type": "execute_result"
    }
   ],
   "source": [
    "#some array function to reverse\n",
    "import numpy as np\n",
    "data=np.array([[1,2,3,4,5],[6,7,8,9,10]],dtype=np.float)\n",
    "data"
   ]
  },
  {
   "cell_type": "code",
   "execution_count": 55,
   "metadata": {},
   "outputs": [
    {
     "data": {
      "text/plain": [
       "array([[2., 3., 4.],\n",
       "       [7., 8., 9.]])"
      ]
     },
     "execution_count": 55,
     "metadata": {},
     "output_type": "execute_result"
    }
   ],
   "source": [
    "data[:,1:4]#All rows bt specified coloumn"
   ]
  },
  {
   "cell_type": "code",
   "execution_count": 57,
   "metadata": {},
   "outputs": [
    {
     "data": {
      "text/plain": [
       "array([[ 6.,  7.,  8.,  9., 10.],\n",
       "       [ 1.,  2.,  3.,  4.,  5.]])"
      ]
     },
     "execution_count": 57,
     "metadata": {},
     "output_type": "execute_result"
    }
   ],
   "source": [
    "data[::-1]#used to \"reverse rows\" that is lat will be in first, and so on and 1st will be in last"
   ]
  },
  {
   "cell_type": "code",
   "execution_count": 59,
   "metadata": {},
   "outputs": [
    {
     "data": {
      "text/plain": [
       "array([[ 5.,  4.,  3.,  2.,  1.],\n",
       "       [10.,  9.,  8.,  7.,  6.]])"
      ]
     },
     "execution_count": 59,
     "metadata": {},
     "output_type": "execute_result"
    }
   ],
   "source": [
    "data[:,::-1]#used to reverse coloumn"
   ]
  },
  {
   "cell_type": "code",
   "execution_count": 62,
   "metadata": {},
   "outputs": [
    {
     "data": {
      "text/plain": [
       "array([[10.,  9.,  8.,  7.,  6.],\n",
       "       [ 5.,  4.,  3.,  2.,  1.]])"
      ]
     },
     "execution_count": 62,
     "metadata": {},
     "output_type": "execute_result"
    }
   ],
   "source": [
    "#reverse both row and columns of data\n",
    "#Output sould be like\n",
    "data[::-1,::-1]#both row and column reverse"
   ]
  },
  {
   "cell_type": "code",
   "execution_count": 64,
   "metadata": {},
   "outputs": [
    {
     "data": {
      "text/plain": [
       "array([[inf,  2.,  3.,  4.,  5.],\n",
       "       [ 6.,  7.,  8.,  9., nan]])"
      ]
     },
     "execution_count": 64,
     "metadata": {},
     "output_type": "execute_result"
    }
   ],
   "source": [
    "#Infinity as inf\n",
    "#not a number as nan\n",
    "data[0,0]=np.inf\n",
    "data[-1,-1]=np.nan\n",
    "data"
   ]
  },
  {
   "cell_type": "code",
   "execution_count": 66,
   "metadata": {},
   "outputs": [
    {
     "data": {
      "text/plain": [
       "array([[inf,  2.],\n",
       "       [ 3.,  4.],\n",
       "       [ 5.,  6.],\n",
       "       [ 7.,  8.],\n",
       "       [ 9., nan]])"
      ]
     },
     "execution_count": 66,
     "metadata": {},
     "output_type": "execute_result"
    }
   ],
   "source": [
    "#Reshapping\n",
    "reshaped=data.reshape((5,2))\n",
    "reshaped"
   ]
  },
  {
   "cell_type": "code",
   "execution_count": 67,
   "metadata": {},
   "outputs": [
    {
     "data": {
      "text/plain": [
       "array([inf,  2.,  3.,  4.,  5.,  6.,  7.,  8.,  9., nan])"
      ]
     },
     "execution_count": 67,
     "metadata": {},
     "output_type": "execute_result"
    }
   ],
   "source": [
    "flattened=data.flatten()\n",
    "flattened"
   ]
  },
  {
   "cell_type": "code",
   "execution_count": 69,
   "metadata": {},
   "outputs": [
    {
     "data": {
      "text/plain": [
       "array([[0.68414237, 0.64838673, 0.11045804],\n",
       "       [0.20039885, 0.86366242, 0.15219734],\n",
       "       [0.21685271, 0.89674212, 0.23286887]])"
      ]
     },
     "execution_count": 69,
     "metadata": {},
     "output_type": "execute_result"
    }
   ],
   "source": [
    "#generating random numbers\n",
    "np.random.rand(3,3)#(dimensions that is rows and columns)"
   ]
  },
  {
   "cell_type": "code",
   "execution_count": 70,
   "metadata": {},
   "outputs": [
    {
     "data": {
      "text/plain": [
       "array([[4, 3, 0, 0, 8],\n",
       "       [6, 0, 9, 4, 2],\n",
       "       [6, 6, 2, 1, 5],\n",
       "       [3, 3, 0, 9, 4],\n",
       "       [3, 0, 5, 2, 8]])"
      ]
     },
     "execution_count": 70,
     "metadata": {},
     "output_type": "execute_result"
    }
   ],
   "source": [
    "np.random.randint(0,10,(5,5))"
   ]
  },
  {
   "cell_type": "code",
   "execution_count": 73,
   "metadata": {},
   "outputs": [
    {
     "data": {
      "text/plain": [
       "array([['us', 'uk', 'china', 'us'],\n",
       "       ['srilanka', 'china', 'china', 'srilanka'],\n",
       "       ['china', 'china', 'china', 'srilanka']], dtype='<U8')"
      ]
     },
     "execution_count": 73,
     "metadata": {},
     "output_type": "execute_result"
    }
   ],
   "source": [
    "np.random.choice([\"india\",\"china\",\"srilanka\",\"uk\",\"us\"],(3,4))\n",
    "#Choice(data,(dimension))"
   ]
  },
  {
   "cell_type": "code",
   "execution_count": null,
   "metadata": {},
   "outputs": [],
   "source": []
  },
  {
   "cell_type": "code",
   "execution_count": 24,
   "metadata": {},
   "outputs": [
    {
     "data": {
      "text/plain": [
       "array([['uk', 'india', 'china', 'india'],\n",
       "       ['us', 'uk', 'india', 'india'],\n",
       "       ['us', 'china', 'india', 'uk']], dtype='|S8')"
      ]
     },
     "execution_count": 24,
     "metadata": {},
     "output_type": "execute_result"
    }
   ],
   "source": [
    "#Seed(any integer) function is used to generate a standard random number that won't get change\n",
    "#when we run any number of times if we change the integer value in seed(value) it will change once \n",
    "np.random.seed(5)\n",
    "np.random.choice([\"india\",\"china\",\"srilanka\",\"uk\",\"us\"],(3,4))"
   ]
  },
  {
   "cell_type": "code",
   "execution_count": 25,
   "metadata": {},
   "outputs": [],
   "source": [
    "#Vectors\n",
    "def calc(a):\n",
    "    if(a%2==0):\n",
    "        return(a**2)\n",
    "    else:\n",
    "        return(a-1)\n",
    "    \n"
   ]
  },
  {
   "cell_type": "code",
   "execution_count": 77,
   "metadata": {},
   "outputs": [
    {
     "data": {
      "text/plain": [
       "4"
      ]
     },
     "execution_count": 77,
     "metadata": {},
     "output_type": "execute_result"
    }
   ],
   "source": [
    "vals=np.array([1,2,3,4,5])\n",
    "calc(vals[1])#we cant pass the whole array as an argument to a function so that we use vectorize() fun"
   ]
  },
  {
   "cell_type": "code",
   "execution_count": 79,
   "metadata": {},
   "outputs": [
    {
     "ename": "NameError",
     "evalue": "name 'val' is not defined",
     "output_type": "error",
     "traceback": [
      "\u001b[1;31m---------------------------------------------------------------------------\u001b[0m",
      "\u001b[1;31mNameError\u001b[0m                                 Traceback (most recent call last)",
      "\u001b[1;32m<ipython-input-79-9bf992a01bdb>\u001b[0m in \u001b[0;36m<module>\u001b[1;34m\u001b[0m\n\u001b[1;32m----> 1\u001b[1;33m \u001b[0mcalc\u001b[0m\u001b[1;33m(\u001b[0m\u001b[0mval\u001b[0m\u001b[1;33m)\u001b[0m\u001b[1;33m\u001b[0m\u001b[1;33m\u001b[0m\u001b[0m\n\u001b[0m",
      "\u001b[1;31mNameError\u001b[0m: name 'val' is not defined"
     ]
    }
   ],
   "source": [
    "calc(val)"
   ]
  },
  {
   "cell_type": "code",
   "execution_count": 80,
   "metadata": {},
   "outputs": [
    {
     "data": {
      "text/plain": [
       "array([ 0,  4,  2, 16,  4])"
      ]
     },
     "execution_count": 80,
     "metadata": {},
     "output_type": "execute_result"
    }
   ],
   "source": [
    "v_calc=np.vectorize(calc)\n",
    "v_calc(vals)"
   ]
  },
  {
   "cell_type": "code",
   "execution_count": 81,
   "metadata": {},
   "outputs": [],
   "source": [
    "#create a function that converts the number to its binary format\n",
    "#use vecorze to apply it on a numpy array"
   ]
  },
  {
   "cell_type": "code",
   "execution_count": 82,
   "metadata": {},
   "outputs": [
    {
     "data": {
      "text/plain": [
       "'0b10100'"
      ]
     },
     "execution_count": 82,
     "metadata": {},
     "output_type": "execute_result"
    }
   ],
   "source": [
    "bin(20)"
   ]
  },
  {
   "cell_type": "code",
   "execution_count": 84,
   "metadata": {},
   "outputs": [],
   "source": [
    "\"\"\"Records using hetrogeneous datatypes\"\"\"\n",
    "rec=np.array([(1,(98.5,96),\"ram\"),(2,(100,76.9),\"raj\")], dtype=[('RollNo',np.int32),('mark',np.float64,2),('Name',np.str,4)])"
   ]
  },
  {
   "cell_type": "code",
   "execution_count": 85,
   "metadata": {},
   "outputs": [
    {
     "data": {
      "text/plain": [
       "array([(1, [ 98.5,  96. ], 'ram'), (2, [100. ,  76.9], 'raj')],\n",
       "      dtype=[('RollNo', '<i4'), ('mark', '<f8', (2,)), ('Name', '<U4')])"
      ]
     },
     "execution_count": 85,
     "metadata": {},
     "output_type": "execute_result"
    }
   ],
   "source": [
    "rec"
   ]
  },
  {
   "cell_type": "code",
   "execution_count": 87,
   "metadata": {},
   "outputs": [
    {
     "data": {
      "text/plain": [
       "(1, [98.5, 96. ], 'ram')"
      ]
     },
     "execution_count": 87,
     "metadata": {},
     "output_type": "execute_result"
    }
   ],
   "source": [
    "rec[0]"
   ]
  },
  {
   "cell_type": "code",
   "execution_count": 89,
   "metadata": {},
   "outputs": [
    {
     "data": {
      "text/plain": [
       "array(['ram', 'raj'], dtype='<U4')"
      ]
     },
     "execution_count": 89,
     "metadata": {},
     "output_type": "execute_result"
    }
   ],
   "source": [
    "rec['Name']"
   ]
  },
  {
   "cell_type": "code",
   "execution_count": 92,
   "metadata": {},
   "outputs": [
    {
     "data": {
      "text/plain": [
       "array([98.5, 96. ])"
      ]
     },
     "execution_count": 92,
     "metadata": {},
     "output_type": "execute_result"
    }
   ],
   "source": [
    "rec[0]['mark']"
   ]
  },
  {
   "cell_type": "code",
   "execution_count": 94,
   "metadata": {},
   "outputs": [
    {
     "data": {
      "text/plain": [
       "array([98.5, 96. ])"
      ]
     },
     "execution_count": 94,
     "metadata": {},
     "output_type": "execute_result"
    }
   ],
   "source": [
    "rec['mark'][0]"
   ]
  },
  {
   "cell_type": "code",
   "execution_count": 99,
   "metadata": {},
   "outputs": [
    {
     "data": {
      "text/plain": [
       "array([(2018., 9.,  9.,  0., 0., 22.64), (2018., 9.,  9.,  1., 0., 22.42),\n",
       "       (2018., 9.,  9.,  2., 0., 22.3 ), (2018., 9.,  9.,  3., 0., 22.2 ),\n",
       "       (2018., 9.,  9.,  4., 0., 22.14), (2018., 9.,  9.,  5., 0., 22.2 ),\n",
       "       (2018., 9.,  9.,  6., 0., 23.39), (2018., 9.,  9.,  7., 0., 24.42),\n",
       "       (2018., 9.,  9.,  8., 0., 24.7 ), (2018., 9.,  9.,  9., 0., 24.6 ),\n",
       "       (2018., 9.,  9., 10., 0., 24.14), (2018., 9.,  9., 11., 0., 23.95),\n",
       "       (2018., 9.,  9., 12., 0., 23.9 ), (2018., 9.,  9., 13., 0., 23.28),\n",
       "       (2018., 9.,  9., 14., 0., 23.27), (2018., 9.,  9., 15., 0., 25.42),\n",
       "       (2018., 9.,  9., 16., 0., 25.75), (2018., 9.,  9., 17., 0., 24.19),\n",
       "       (2018., 9.,  9., 18., 0., 23.48), (2018., 9.,  9., 19., 0., 22.94),\n",
       "       (2018., 9.,  9., 20., 0., 22.48), (2018., 9.,  9., 21., 0., 22.11),\n",
       "       (2018., 9.,  9., 22., 0., 22.1 ), (2018., 9.,  9., 23., 0., 22.06),\n",
       "       (2018., 9., 10.,  0., 0., 22.05), (2018., 9., 10.,  1., 0., 22.02),\n",
       "       (2018., 9., 10.,  2., 0., 22.  ), (2018., 9., 10.,  3., 0., 22.  ),\n",
       "       (2018., 9., 10.,  4., 0., 22.02), (2018., 9., 10.,  5., 0., 22.05),\n",
       "       (2018., 9., 10.,  6., 0., 21.48), (2018., 9., 10.,  7., 0., 24.08),\n",
       "       (2018., 9., 10.,  8., 0., 25.7 ), (2018., 9., 10.,  9., 0., 26.34),\n",
       "       (2018., 9., 10., 10., 0., 26.92), (2018., 9., 10., 11., 0., 25.27),\n",
       "       (2018., 9., 10., 12., 0., 24.69), (2018., 9., 10., 13., 0., 25.48),\n",
       "       (2018., 9., 10., 14., 0., 24.05), (2018., 9., 10., 15., 0., 23.95),\n",
       "       (2018., 9., 10., 16., 0., 23.7 ), (2018., 9., 10., 17., 0., 23.11),\n",
       "       (2018., 9., 10., 18., 0., 22.72), (2018., 9., 10., 19., 0., 22.6 ),\n",
       "       (2018., 9., 10., 20., 0., 22.5 ), (2018., 9., 10., 21., 0., 22.36),\n",
       "       (2018., 9., 10., 22., 0., 22.23), (2018., 9., 10., 23., 0., 22.05),\n",
       "       (2018., 9., 11.,  0., 0., 21.89), (2018., 9., 11.,  1., 0., 21.77),\n",
       "       (2018., 9., 11.,  2., 0., 21.69), (2018., 9., 11.,  3., 0., 21.66),\n",
       "       (2018., 9., 11.,  4., 0., 21.62), (2018., 9., 11.,  5., 0., 21.6 ),\n",
       "       (2018., 9., 11.,  6., 0., 21.62), (2018., 9., 11.,  7., 0., 23.94),\n",
       "       (2018., 9., 11.,  8., 0., 25.27), (2018., 9., 11.,  9., 0., 26.47),\n",
       "       (2018., 9., 11., 10., 0., 27.58), (2018., 9., 11., 11., 0., 26.95),\n",
       "       (2018., 9., 11., 12., 0., 26.45), (2018., 9., 11., 13., 0., 25.56),\n",
       "       (2018., 9., 11., 14., 0., 24.61), (2018., 9., 11., 15., 0., 24.11),\n",
       "       (2018., 9., 11., 16., 0., 23.77), (2018., 9., 11., 17., 0., 23.72),\n",
       "       (2018., 9., 11., 18., 0., 23.12), (2018., 9., 11., 19., 0., 22.95),\n",
       "       (2018., 9., 11., 20., 0., 22.86), (2018., 9., 11., 21., 0., 22.7 ),\n",
       "       (2018., 9., 11., 22., 0., 22.75), (2018., 9., 11., 23., 0., 22.77),\n",
       "       (2018., 9., 12.,  0., 0., 22.61), (2018., 9., 12.,  1., 0., 22.45),\n",
       "       (2018., 9., 12.,  2., 0., 22.48), (2018., 9., 12.,  3., 0., 22.55),\n",
       "       (2018., 9., 12.,  4., 0., 22.31), (2018., 9., 12.,  5., 0., 22.16),\n",
       "       (2018., 9., 12.,  6., 0., 22.66), (2018., 9., 12.,  7., 0., 25.12),\n",
       "       (2018., 9., 12.,  8., 0., 26.53), (2018., 9., 12.,  9., 0., 26.2 ),\n",
       "       (2018., 9., 12., 10., 0., 26.39), (2018., 9., 12., 11., 0., 28.31),\n",
       "       (2018., 9., 12., 12., 0., 27.53), (2018., 9., 12., 13., 0., 28.44),\n",
       "       (2018., 9., 12., 14., 0., 29.23), (2018., 9., 12., 15., 0., 28.23),\n",
       "       (2018., 9., 12., 16., 0., 27.92), (2018., 9., 12., 17., 0., 27.17),\n",
       "       (2018., 9., 12., 18., 0., 25.2 ), (2018., 9., 12., 19., 0., 24.12),\n",
       "       (2018., 9., 12., 20., 0., 23.44), (2018., 9., 12., 21., 0., 23.19),\n",
       "       (2018., 9., 12., 22., 0., 23.2 ), (2018., 9., 12., 23., 0., 23.22),\n",
       "       (2018., 9., 13.,  0., 0., 23.42), (2018., 9., 13.,  1., 0., 23.6 ),\n",
       "       (2018., 9., 13.,  2., 0., 23.83), (2018., 9., 13.,  3., 0., 23.47),\n",
       "       (2018., 9., 13.,  4., 0., 23.19), (2018., 9., 13.,  5., 0., 22.27),\n",
       "       (2018., 9., 13.,  6., 0., 21.75), (2018., 9., 13.,  7., 0., 23.56),\n",
       "       (2018., 9., 13.,  8., 0., 23.69), (2018., 9., 13.,  9., 0., 24.86),\n",
       "       (2018., 9., 13., 10., 0., 26.52), (2018., 9., 13., 11., 0., 28.23),\n",
       "       (2018., 9., 13., 12., 0., 27.73), (2018., 9., 13., 13., 0., 27.4 ),\n",
       "       (2018., 9., 13., 14., 0., 26.94), (2018., 9., 13., 15., 0., 26.6 ),\n",
       "       (2018., 9., 13., 16., 0., 26.36), (2018., 9., 13., 17., 0., 26.55),\n",
       "       (2018., 9., 13., 18., 0., 25.11), (2018., 9., 13., 19., 0., 24.05),\n",
       "       (2018., 9., 13., 20., 0., 23.5 ), (2018., 9., 13., 21., 0., 23.4 ),\n",
       "       (2018., 9., 13., 22., 0., 23.52), (2018., 9., 13., 23., 0., 23.6 ),\n",
       "       (2018., 9., 14.,  0., 0., 23.55), (2018., 9., 14.,  1., 0., 23.3 ),\n",
       "       (2018., 9., 14.,  2., 0., 23.05), (2018., 9., 14.,  3., 0., 22.88),\n",
       "       (2018., 9., 14.,  4., 0., 22.69), (2018., 9., 14.,  5., 0., 22.5 ),\n",
       "       (2018., 9., 14.,  6., 0., 22.56), (2018., 9., 14.,  7., 0., 24.73),\n",
       "       (2018., 9., 14.,  8., 0., 26.03), (2018., 9., 14.,  9., 0., 27.23),\n",
       "       (2018., 9., 14., 10., 0., 28.38), (2018., 9., 14., 11., 0., 29.27),\n",
       "       (2018., 9., 14., 12., 0., 29.95), (2018., 9., 14., 13., 0., 29.9 ),\n",
       "       (2018., 9., 14., 14., 0., 28.16), (2018., 9., 14., 15., 0., 27.19),\n",
       "       (2018., 9., 14., 16., 0., 25.88), (2018., 9., 14., 17., 0., 25.02),\n",
       "       (2018., 9., 14., 18., 0., 23.55), (2018., 9., 14., 19., 0., 22.9 ),\n",
       "       (2018., 9., 14., 20., 0., 22.56), (2018., 9., 14., 21., 0., 22.55),\n",
       "       (2018., 9., 14., 22., 0., 22.56), (2018., 9., 14., 23., 0., 22.36),\n",
       "       (2018., 9., 15.,  0., 0., 22.52), (2018., 9., 15.,  1., 0., 21.78),\n",
       "       (2018., 9., 15.,  2., 0., 21.45), (2018., 9., 15.,  3., 0., 21.38),\n",
       "       (2018., 9., 15.,  4., 0., 20.81), (2018., 9., 15.,  5., 0., 20.55),\n",
       "       (2018., 9., 15.,  6., 0., 21.45), (2018., 9., 15.,  7., 0., 24.78),\n",
       "       (2018., 9., 15.,  8., 0., 26.45), (2018., 9., 15.,  9., 0., 27.8 ),\n",
       "       (2018., 9., 15., 10., 0., 28.92), (2018., 9., 15., 11., 0., 28.52),\n",
       "       (2018., 9., 15., 12., 0., 27.95), (2018., 9., 15., 13., 0., 27.4 ),\n",
       "       (2018., 9., 15., 14., 0., 26.9 ), (2018., 9., 15., 15., 0., 26.44),\n",
       "       (2018., 9., 15., 16., 0., 25.58), (2018., 9., 15., 17., 0., 24.89),\n",
       "       (2018., 9., 15., 18., 0., 23.7 ), (2018., 9., 15., 19., 0., 23.28),\n",
       "       (2018., 9., 15., 20., 0., 23.05), (2018., 9., 15., 21., 0., 22.73),\n",
       "       (2018., 9., 15., 22., 0., 22.6 ), (2018., 9., 15., 23., 0., 22.45),\n",
       "       (2018., 9., 16.,  0., 0., 22.33), (2018., 9., 16.,  1., 0., 22.2 ),\n",
       "       (2018., 9., 16.,  2., 0., 22.08), (2018., 9., 16.,  3., 0., 22.05),\n",
       "       (2018., 9., 16.,  4., 0., 21.92), (2018., 9., 16.,  5., 0., 21.67),\n",
       "       (2018., 9., 16.,  6., 0., 21.6 ), (2018., 9., 16.,  7., 0., 22.88),\n",
       "       (2018., 9., 16.,  8., 0., 23.77), (2018., 9., 16.,  9., 0., 25.55),\n",
       "       (2018., 9., 16., 10., 0., 27.06), (2018., 9., 16., 11., 0., 27.6 ),\n",
       "       (2018., 9., 16., 12., 0., 28.2 ), (2018., 9., 16., 13., 0., 28.36),\n",
       "       (2018., 9., 16., 14., 0., 27.95), (2018., 9., 16., 15., 0., 27.4 ),\n",
       "       (2018., 9., 16., 16., 0., 26.3 ), (2018., 9., 16., 17., 0., 24.72),\n",
       "       (2018., 9., 16., 18., 0., 23.19), (2018., 9., 16., 19., 0., 23.23),\n",
       "       (2018., 9., 16., 20., 0., 23.08), (2018., 9., 16., 21., 0., 22.8 ),\n",
       "       (2018., 9., 16., 22., 0., 22.69), (2018., 9., 16., 23., 0., 22.6 )],\n",
       "      dtype=[('Year', '<f2'), ('month', '<f2'), ('day', '<f2'), ('hour', '<f2'), ('minute', '<f2'), ('temp', '<f2')])"
      ]
     },
     "execution_count": 99,
     "metadata": {},
     "output_type": "execute_result"
    }
   ],
   "source": [
    "#Schemas are used to specify the type and the name of the data available in file\n",
    "schema=np.dtype([('Year',np.float16),\n",
    "                ('month',np.float16),\n",
    "                ('day',np.float16),\n",
    "                ('hour',np.float16),\n",
    "                ('minute',np.float16),\n",
    "                ('temp',np.float16)])\n",
    "np_data=np.loadtxt('weather1week.csv',dtype=schema,delimiter=';')\n",
    "np_data"
   ]
  },
  {
   "cell_type": "code",
   "execution_count": 100,
   "metadata": {},
   "outputs": [
    {
     "data": {
      "text/plain": [
       "(2018., 9., 9., 0., 0., 22.64)"
      ]
     },
     "execution_count": 100,
     "metadata": {},
     "output_type": "execute_result"
    }
   ],
   "source": [
    "np_data[0]"
   ]
  },
  {
   "cell_type": "code",
   "execution_count": 101,
   "metadata": {},
   "outputs": [
    {
     "data": {
      "text/plain": [
       "array([22.64, 22.42, 22.3 , 22.2 , 22.14, 22.2 , 23.39, 24.42, 24.7 ,\n",
       "       24.6 , 24.14, 23.95, 23.9 , 23.28, 23.27, 25.42, 25.75, 24.19,\n",
       "       23.48, 22.94, 22.48, 22.11, 22.1 , 22.06, 22.05, 22.02, 22.  ,\n",
       "       22.  , 22.02, 22.05, 21.48, 24.08, 25.7 , 26.34, 26.92, 25.27,\n",
       "       24.69, 25.48, 24.05, 23.95, 23.7 , 23.11, 22.72, 22.6 , 22.5 ,\n",
       "       22.36, 22.23, 22.05, 21.89, 21.77, 21.69, 21.66, 21.62, 21.6 ,\n",
       "       21.62, 23.94, 25.27, 26.47, 27.58, 26.95, 26.45, 25.56, 24.61,\n",
       "       24.11, 23.77, 23.72, 23.12, 22.95, 22.86, 22.7 , 22.75, 22.77,\n",
       "       22.61, 22.45, 22.48, 22.55, 22.31, 22.16, 22.66, 25.12, 26.53,\n",
       "       26.2 , 26.39, 28.31, 27.53, 28.44, 29.23, 28.23, 27.92, 27.17,\n",
       "       25.2 , 24.12, 23.44, 23.19, 23.2 , 23.22, 23.42, 23.6 , 23.83,\n",
       "       23.47, 23.19, 22.27, 21.75, 23.56, 23.69, 24.86, 26.52, 28.23,\n",
       "       27.73, 27.4 , 26.94, 26.6 , 26.36, 26.55, 25.11, 24.05, 23.5 ,\n",
       "       23.4 , 23.52, 23.6 , 23.55, 23.3 , 23.05, 22.88, 22.69, 22.5 ,\n",
       "       22.56, 24.73, 26.03, 27.23, 28.38, 29.27, 29.95, 29.9 , 28.16,\n",
       "       27.19, 25.88, 25.02, 23.55, 22.9 , 22.56, 22.55, 22.56, 22.36,\n",
       "       22.52, 21.78, 21.45, 21.38, 20.81, 20.55, 21.45, 24.78, 26.45,\n",
       "       27.8 , 28.92, 28.52, 27.95, 27.4 , 26.9 , 26.44, 25.58, 24.89,\n",
       "       23.7 , 23.28, 23.05, 22.73, 22.6 , 22.45, 22.33, 22.2 , 22.08,\n",
       "       22.05, 21.92, 21.67, 21.6 , 22.88, 23.77, 25.55, 27.06, 27.6 ,\n",
       "       28.2 , 28.36, 27.95, 27.4 , 26.3 , 24.72, 23.19, 23.23, 23.08,\n",
       "       22.8 , 22.69, 22.6 ], dtype=float16)"
      ]
     },
     "execution_count": 101,
     "metadata": {},
     "output_type": "execute_result"
    }
   ],
   "source": [
    "np_data['temp']"
   ]
  },
  {
   "cell_type": "code",
   "execution_count": 102,
   "metadata": {},
   "outputs": [
    {
     "data": {
      "text/plain": [
       "9.0"
      ]
     },
     "execution_count": 102,
     "metadata": {},
     "output_type": "execute_result"
    }
   ],
   "source": [
    "np_data[0][\"day\"]"
   ]
  },
  {
   "cell_type": "code",
   "execution_count": 106,
   "metadata": {},
   "outputs": [
    {
     "data": {
      "text/plain": [
       "array([(2018., 9.,  9.,  0., 0., 617.5), (2018., 9.,  9.,  1., 0., 615. ),\n",
       "       (2018., 9.,  9.,  2., 0., 613.5), (2018., 9.,  9.,  3., 0., 613.5),\n",
       "       (2018., 9.,  9.,  4., 0., 612.5), (2018., 9.,  9.,  5., 0., 613.5),\n",
       "       (2018., 9.,  9.,  6., 0., 625.5), (2018., 9.,  9.,  7., 0., 636.5),\n",
       "       (2018., 9.,  9.,  8., 0., 639. ), (2018., 9.,  9.,  9., 0., 637.5),\n",
       "       (2018., 9.,  9., 10., 0., 633. ), (2018., 9.,  9., 11., 0., 631.5),\n",
       "       (2018., 9.,  9., 12., 0., 630.5), (2018., 9.,  9., 13., 0., 624. ),\n",
       "       (2018., 9.,  9., 14., 0., 624. ), (2018., 9.,  9., 15., 0., 646. ),\n",
       "       (2018., 9.,  9., 16., 0., 650. ), (2018., 9.,  9., 17., 0., 633.5),\n",
       "       (2018., 9.,  9., 18., 0., 626. ), (2018., 9.,  9., 19., 0., 620.5),\n",
       "       (2018., 9.,  9., 20., 0., 616. ), (2018., 9.,  9., 21., 0., 611.5),\n",
       "       (2018., 9.,  9., 22., 0., 611.5), (2018., 9.,  9., 23., 0., 611.5),\n",
       "       (2018., 9., 10.,  0., 0., 611. ), (2018., 9., 10.,  1., 0., 610.5),\n",
       "       (2018., 9., 10.,  2., 0., 610.5), (2018., 9., 10.,  3., 0., 610.5),\n",
       "       (2018., 9., 10.,  4., 0., 610.5), (2018., 9., 10.,  5., 0., 611. ),\n",
       "       (2018., 9., 10.,  6., 0., 605. ), (2018., 9., 10.,  7., 0., 632.5),\n",
       "       (2018., 9., 10.,  8., 0., 650. ), (2018., 9., 10.,  9., 0., 656. ),\n",
       "       (2018., 9., 10., 10., 0., 662.5), (2018., 9., 10., 11., 0., 645.5),\n",
       "       (2018., 9., 10., 12., 0., 639. ), (2018., 9., 10., 13., 0., 647. ),\n",
       "       (2018., 9., 10., 14., 0., 632. ), (2018., 9., 10., 15., 0., 631.5),\n",
       "       (2018., 9., 10., 16., 0., 628. ), (2018., 9., 10., 17., 0., 622.5),\n",
       "       (2018., 9., 10., 18., 0., 618. ), (2018., 9., 10., 19., 0., 617. ),\n",
       "       (2018., 9., 10., 20., 0., 616. ), (2018., 9., 10., 21., 0., 614. ),\n",
       "       (2018., 9., 10., 22., 0., 613.5), (2018., 9., 10., 23., 0., 611. ),\n",
       "       (2018., 9., 11.,  0., 0., 609.5), (2018., 9., 11.,  1., 0., 608.5),\n",
       "       (2018., 9., 11.,  2., 0., 607. ), (2018., 9., 11.,  3., 0., 607. ),\n",
       "       (2018., 9., 11.,  4., 0., 606. ), (2018., 9., 11.,  5., 0., 606. ),\n",
       "       (2018., 9., 11.,  6., 0., 606. ), (2018., 9., 11.,  7., 0., 631.5),\n",
       "       (2018., 9., 11.,  8., 0., 645.5), (2018., 9., 11.,  9., 0., 657.5),\n",
       "       (2018., 9., 11., 10., 0., 669. ), (2018., 9., 11., 11., 0., 662.5),\n",
       "       (2018., 9., 11., 12., 0., 657.5), (2018., 9., 11., 13., 0., 648. ),\n",
       "       (2018., 9., 11., 14., 0., 637.5), (2018., 9., 11., 15., 0., 632.5),\n",
       "       (2018., 9., 11., 16., 0., 629. ), (2018., 9., 11., 17., 0., 628.5),\n",
       "       (2018., 9., 11., 18., 0., 622.5), (2018., 9., 11., 19., 0., 621. ),\n",
       "       (2018., 9., 11., 20., 0., 619.5), (2018., 9., 11., 21., 0., 618. ),\n",
       "       (2018., 9., 11., 22., 0., 618.5), (2018., 9., 11., 23., 0., 618.5),\n",
       "       (2018., 9., 12.,  0., 0., 617.5), (2018., 9., 12.,  1., 0., 615. ),\n",
       "       (2018., 9., 12.,  2., 0., 616. ), (2018., 9., 12.,  3., 0., 617. ),\n",
       "       (2018., 9., 12.,  4., 0., 613.5), (2018., 9., 12.,  5., 0., 612.5),\n",
       "       (2018., 9., 12.,  6., 0., 617.5), (2018., 9., 12.,  7., 0., 643.5),\n",
       "       (2018., 9., 12.,  8., 0., 658. ), (2018., 9., 12.,  9., 0., 654.5),\n",
       "       (2018., 9., 12., 10., 0., 657. ), (2018., 9., 12., 11., 0., 677. ),\n",
       "       (2018., 9., 12., 12., 0., 668.5), (2018., 9., 12., 13., 0., 678. ),\n",
       "       (2018., 9., 12., 14., 0., 686. ), (2018., 9., 12., 15., 0., 676. ),\n",
       "       (2018., 9., 12., 16., 0., 672.5), (2018., 9., 12., 17., 0., 664.5),\n",
       "       (2018., 9., 12., 18., 0., 644.5), (2018., 9., 12., 19., 0., 632.5),\n",
       "       (2018., 9., 12., 20., 0., 625.5), (2018., 9., 12., 21., 0., 623. ),\n",
       "       (2018., 9., 12., 22., 0., 623. ), (2018., 9., 12., 23., 0., 623. ),\n",
       "       (2018., 9., 13.,  0., 0., 625.5), (2018., 9., 13.,  1., 0., 627.5),\n",
       "       (2018., 9., 13.,  2., 0., 629.5), (2018., 9., 13.,  3., 0., 626. ),\n",
       "       (2018., 9., 13.,  4., 0., 623. ), (2018., 9., 13.,  5., 0., 613.5),\n",
       "       (2018., 9., 13.,  6., 0., 608. ), (2018., 9., 13.,  7., 0., 627. ),\n",
       "       (2018., 9., 13.,  8., 0., 628. ), (2018., 9., 13.,  9., 0., 641. ),\n",
       "       (2018., 9., 13., 10., 0., 658. ), (2018., 9., 13., 11., 0., 676. ),\n",
       "       (2018., 9., 13., 12., 0., 670.5), (2018., 9., 13., 13., 0., 667.5),\n",
       "       (2018., 9., 13., 14., 0., 662.5), (2018., 9., 13., 15., 0., 659. ),\n",
       "       (2018., 9., 13., 16., 0., 656.5), (2018., 9., 13., 17., 0., 658. ),\n",
       "       (2018., 9., 13., 18., 0., 643. ), (2018., 9., 13., 19., 0., 632. ),\n",
       "       (2018., 9., 13., 20., 0., 626. ), (2018., 9., 13., 21., 0., 625.5),\n",
       "       (2018., 9., 13., 22., 0., 626.5), (2018., 9., 13., 23., 0., 627.5),\n",
       "       (2018., 9., 14.,  0., 0., 627. ), (2018., 9., 14.,  1., 0., 624.5),\n",
       "       (2018., 9., 14.,  2., 0., 621.5), (2018., 9., 14.,  3., 0., 619.5),\n",
       "       (2018., 9., 14.,  4., 0., 618. ), (2018., 9., 14.,  5., 0., 616. ),\n",
       "       (2018., 9., 14.,  6., 0., 617. ), (2018., 9., 14.,  7., 0., 639. ),\n",
       "       (2018., 9., 14.,  8., 0., 653.5), (2018., 9., 14.,  9., 0., 665.5),\n",
       "       (2018., 9., 14., 10., 0., 677.5), (2018., 9., 14., 11., 0., 686.5),\n",
       "       (2018., 9., 14., 12., 0., 694. ), (2018., 9., 14., 13., 0., 694. ),\n",
       "       (2018., 9., 14., 14., 0., 675.5), (2018., 9., 14., 15., 0., 665. ),\n",
       "       (2018., 9., 14., 16., 0., 651. ), (2018., 9., 14., 17., 0., 642. ),\n",
       "       (2018., 9., 14., 18., 0., 627. ), (2018., 9., 14., 19., 0., 620.5),\n",
       "       (2018., 9., 14., 20., 0., 617. ), (2018., 9., 14., 21., 0., 617. ),\n",
       "       (2018., 9., 14., 22., 0., 617. ), (2018., 9., 14., 23., 0., 614. ),\n",
       "       (2018., 9., 15.,  0., 0., 616. ), (2018., 9., 15.,  1., 0., 608.5),\n",
       "       (2018., 9., 15.,  2., 0., 605. ), (2018., 9., 15.,  3., 0., 604.5),\n",
       "       (2018., 9., 15.,  4., 0., 598. ), (2018., 9., 15.,  5., 0., 596. ),\n",
       "       (2018., 9., 15.,  6., 0., 605. ), (2018., 9., 15.,  7., 0., 640. ),\n",
       "       (2018., 9., 15.,  8., 0., 657.5), (2018., 9., 15.,  9., 0., 671.5),\n",
       "       (2018., 9., 15., 10., 0., 683. ), (2018., 9., 15., 11., 0., 679. ),\n",
       "       (2018., 9., 15., 12., 0., 673. ), (2018., 9., 15., 13., 0., 667.5),\n",
       "       (2018., 9., 15., 14., 0., 662. ), (2018., 9., 15., 15., 0., 657.5),\n",
       "       (2018., 9., 15., 16., 0., 648. ), (2018., 9., 15., 17., 0., 641. ),\n",
       "       (2018., 9., 15., 18., 0., 628. ), (2018., 9., 15., 19., 0., 624. ),\n",
       "       (2018., 9., 15., 20., 0., 621.5), (2018., 9., 15., 21., 0., 618. ),\n",
       "       (2018., 9., 15., 22., 0., 617. ), (2018., 9., 15., 23., 0., 615. ),\n",
       "       (2018., 9., 16.,  0., 0., 614. ), (2018., 9., 16.,  1., 0., 613.5),\n",
       "       (2018., 9., 16.,  2., 0., 611.5), (2018., 9., 16.,  3., 0., 611. ),\n",
       "       (2018., 9., 16.,  4., 0., 609.5), (2018., 9., 16.,  5., 0., 607. ),\n",
       "       (2018., 9., 16.,  6., 0., 606. ), (2018., 9., 16.,  7., 0., 619.5),\n",
       "       (2018., 9., 16.,  8., 0., 629. ), (2018., 9., 16.,  9., 0., 648. ),\n",
       "       (2018., 9., 16., 10., 0., 664. ), (2018., 9., 16., 11., 0., 669. ),\n",
       "       (2018., 9., 16., 12., 0., 675.5), (2018., 9., 16., 13., 0., 677. ),\n",
       "       (2018., 9., 16., 14., 0., 673. ), (2018., 9., 16., 15., 0., 667.5),\n",
       "       (2018., 9., 16., 16., 0., 656. ), (2018., 9., 16., 17., 0., 639. ),\n",
       "       (2018., 9., 16., 18., 0., 623. ), (2018., 9., 16., 19., 0., 623.5),\n",
       "       (2018., 9., 16., 20., 0., 621.5), (2018., 9., 16., 21., 0., 618.5),\n",
       "       (2018., 9., 16., 22., 0., 618. ), (2018., 9., 16., 23., 0., 617. )],\n",
       "      dtype=[('Year', '<f2'), ('month', '<f2'), ('day', '<f2'), ('hour', '<f2'), ('minute', '<f2'), ('temp', '<f2')])"
      ]
     },
     "execution_count": 106,
     "metadata": {},
     "output_type": "execute_result"
    }
   ],
   "source": [
    "#Converting celscius to farheat in file weather1week \n",
    "np_data['temp']=np_data['temp']*(9/5)+32\n",
    "np_data\n"
   ]
  },
  {
   "cell_type": "code",
   "execution_count": null,
   "metadata": {},
   "outputs": [],
   "source": [
    "#"
   ]
  },
  {
   "cell_type": "code",
   "execution_count": null,
   "metadata": {},
   "outputs": [],
   "source": []
  },
  {
   "cell_type": "code",
   "execution_count": null,
   "metadata": {},
   "outputs": [],
   "source": []
  },
  {
   "cell_type": "code",
   "execution_count": null,
   "metadata": {},
   "outputs": [],
   "source": []
  }
 ],
 "metadata": {
  "kernelspec": {
   "display_name": "Python 2",
   "language": "python",
   "name": "python2"
  },
  "language_info": {
   "codemirror_mode": {
    "name": "ipython",
    "version": 2
   },
   "file_extension": ".py",
   "mimetype": "text/x-python",
   "name": "python",
   "nbconvert_exporter": "python",
   "pygments_lexer": "ipython2",
   "version": "2.7.15"
  }
 },
 "nbformat": 4,
 "nbformat_minor": 2
}
