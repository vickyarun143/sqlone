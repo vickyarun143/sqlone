{
 "cells": [
  {
   "cell_type": "code",
   "execution_count": 9,
   "metadata": {},
   "outputs": [
    {
     "data": {
      "text/plain": [
       "array([[0.38134032, 0.3886751 , 0.9557005 , 0.26284967, 0.35981711],\n",
       "       [0.42060133, 0.20511509, 0.0623201 , 0.26042559, 0.95699414],\n",
       "       [0.80209708, 0.98750712, 0.6976141 , 0.37157453, 0.39414093],\n",
       "       [0.43534044, 0.544001  , 0.86621287, 0.14657583, 0.35453944],\n",
       "       [0.21682997, 0.07917867, 0.91550577, 0.1553009 , 0.20842255]])"
      ]
     },
     "execution_count": 9,
     "metadata": {},
     "output_type": "execute_result"
    }
   ],
   "source": [
    "ra=np.random.random((5,5))\n",
    "ra"
   ]
  },
  {
   "cell_type": "code",
   "execution_count": 1,
   "metadata": {},
   "outputs": [],
   "source": [
    "import pandas as pd\n",
    "import numpy as np"
   ]
  },
  {
   "cell_type": "code",
   "execution_count": null,
   "metadata": {},
   "outputs": [],
   "source": []
  }
 ],
 "metadata": {
  "kernelspec": {
   "display_name": "Python 2",
   "language": "python",
   "name": "python2"
  },
  "language_info": {
   "codemirror_mode": {
    "name": "ipython",
    "version": 2
   },
   "file_extension": ".py",
   "mimetype": "text/x-python",
   "name": "python",
   "nbconvert_exporter": "python",
   "pygments_lexer": "ipython2",
   "version": "2.7.15"
  }
 },
 "nbformat": 4,
 "nbformat_minor": 2
}
