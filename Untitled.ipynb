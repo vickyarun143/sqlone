{
 "cells": [
  {
   "cell_type": "code",
   "execution_count": 1,
   "metadata": {},
   "outputs": [],
   "source": [
    "import numpy as np"
   ]
  },
  {
   "cell_type": "code",
   "execution_count": 2,
   "metadata": {},
   "outputs": [
    {
     "name": "stdout",
     "output_type": "stream",
     "text": [
      "\n",
      "Content\n",
      "\n",
      " Coverted Centigirade to faranheit\n"
     ]
    },
    {
     "data": {
      "text/plain": [
       "array([54.64, 54.42, 54.29, 54.2 , 54.14, 54.2 , 55.39, 56.42, 56.7 ,\n",
       "       56.59, 56.14, 55.95, 55.91, 55.28, 55.27, 57.42, 57.75, 56.18,\n",
       "       55.48, 54.94, 54.49, 54.11, 54.09, 54.06, 54.04, 54.01, 54.  ,\n",
       "       54.  , 54.01, 54.04, 53.49, 56.08, 57.7 , 58.35, 58.92, 57.27,\n",
       "       56.69, 57.48, 56.04, 55.96, 55.71, 55.11, 54.72, 54.6 , 54.5 ,\n",
       "       54.36, 54.23, 54.04, 53.89, 53.76, 53.68, 53.66, 53.62, 53.6 ,\n",
       "       53.62, 55.93, 57.27, 58.47, 59.58, 58.95, 58.46, 57.56, 56.61,\n",
       "       56.11, 55.76, 55.72, 55.12, 54.96, 54.86, 54.7 , 54.75, 54.77,\n",
       "       54.61, 54.45, 54.49, 54.54, 54.32, 54.15, 54.65, 57.13, 58.53,\n",
       "       58.21, 58.39, 60.31, 59.53, 60.44, 61.24, 60.24, 59.92, 59.17,\n",
       "       57.21, 56.13, 55.44, 55.18, 55.2 , 55.22, 55.42, 55.59, 55.83,\n",
       "       55.47, 55.19, 54.27, 53.75, 55.57, 55.69, 56.86, 58.51, 60.23,\n",
       "       59.74, 59.4 , 58.94, 58.59, 58.36, 58.54, 57.11, 56.04, 55.5 ,\n",
       "       55.4 , 55.51, 55.6 , 55.54, 55.3 , 55.05, 54.88, 54.69, 54.5 ,\n",
       "       54.56, 56.74, 58.03, 59.24, 60.38, 61.27, 61.96, 61.91, 60.16,\n",
       "       59.18, 57.87, 57.01, 55.55, 54.91, 54.57, 54.55, 54.57, 54.36,\n",
       "       54.51, 53.78, 53.46, 53.37, 52.81, 52.55, 53.45, 56.78, 58.46,\n",
       "       59.8 , 60.92, 60.52, 59.96, 59.4 , 58.9 , 58.44, 57.58, 56.89,\n",
       "       55.71, 55.28, 55.05, 54.74, 54.6 , 54.45, 54.33, 54.21, 54.08,\n",
       "       54.04, 53.92, 53.67, 53.59, 54.87, 55.76, 57.54, 59.07, 59.6 ,\n",
       "       60.21, 60.36, 59.95, 59.4 , 58.29, 56.72, 55.19, 55.24, 55.08,\n",
       "       54.79, 54.68, 54.59])"
      ]
     },
     "execution_count": 2,
     "metadata": {},
     "output_type": "execute_result"
    }
   ],
   "source": [
    "import csv \n",
    "\n",
    "temp =[]\n",
    "convert = []\n",
    "\n",
    "with open ('weather1week.csv','r')as f:\n",
    "    data_reader= csv.reader(f,delimiter=';')\n",
    "    \n",
    "    print(\"\\nContent\")\n",
    "    for line in data_reader:\n",
    "        temp.append(line[5])\n",
    "a = np.array(temp,dtype=np.float64)\n",
    "print(\"\\n Coverted Centigirade to faranheit\")\n",
    "for i in a:\n",
    "    ans = (i*(9/5)+32)\n",
    "    #print(ans)\n",
    "    convert.append(ans)\n",
    "an = np.array(convert)\n",
    "an\n",
    "\n"
   ]
  },
  {
   "cell_type": "code",
   "execution_count": 3,
   "metadata": {},
   "outputs": [
    {
     "name": "stdout",
     "output_type": "stream",
     "text": [
      "Enter how many row:\n"
     ]
    },
    {
     "ename": "SyntaxError",
     "evalue": "unexpected EOF while parsing (<string>, line 0)",
     "output_type": "error",
     "traceback": [
      "\u001b[1;36m  File \u001b[1;32m\"<string>\"\u001b[1;36m, line \u001b[1;32munknown\u001b[0m\n\u001b[1;33m    \u001b[0m\n\u001b[1;37m    ^\u001b[0m\n\u001b[1;31mSyntaxError\u001b[0m\u001b[1;31m:\u001b[0m unexpected EOF while parsing\n"
     ]
    }
   ],
   "source": [
    "mat = []\n",
    "\n",
    "row = int(input(\"Enter how many row:\"))\n",
    "col = int(input(\"Enter how many column:\"))\n",
    "\n",
    "for i in row:\n",
    "    a = []\n",
    "    for j in col:\n",
    "        a.append(int(input()))\n",
    "    mat.append(a)"
   ]
  },
  {
   "cell_type": "markdown",
   "metadata": {},
   "source": [
    "np.zeros((3,3))"
   ]
  },
  {
   "cell_type": "code",
   "execution_count": 31,
   "metadata": {},
   "outputs": [
    {
     "data": {
      "text/plain": [
       "array([[1., 0., 0.],\n",
       "       [0., 1., 0.],\n",
       "       [0., 0., 1.]])"
      ]
     },
     "execution_count": 31,
     "metadata": {},
     "output_type": "execute_result"
    }
   ],
   "source": [
    "np.identity(3)"
   ]
  },
  {
   "cell_type": "code",
   "execution_count": null,
   "metadata": {},
   "outputs": [],
   "source": [
    "\n",
    "\n",
    "R = int(input(\"Enter the number of rows:\")) \n",
    "C = int(input(\"Enter the number of columns:\")) \n",
    "\n",
    "# Initialize matrix \n",
    "matrix = [] \n",
    "print(\"Enter the entries rowwise:\") \n",
    "\n",
    "# For user input \n",
    "for i in range(R):\t\t # A for loop for row entries \n",
    "\ta =[] \n",
    "\tfor j in range(C):\t # A for loop for column entries \n",
    "\t\ta.append(int(input())) \n",
    "\tmatrix.append(a) \n",
    "\n",
    "# For printing the matrix \n",
    "for i in range(R): \n",
    "\tfor j in range(C): \n",
    "\t\tprint(matrix[i][j]) \n",
    "\tprint() \n"
   ]
  },
  {
   "cell_type": "markdown",
   "metadata": {},
   "source": [
    "##### q=np.array([[2,3],[3,4]])\n",
    "q\n"
   ]
  },
  {
   "cell_type": "code",
   "execution_count": 62,
   "metadata": {},
   "outputs": [
    {
     "data": {
      "text/plain": [
       "array([[2, 3],\n",
       "       [3, 5]])"
      ]
     },
     "execution_count": 62,
     "metadata": {},
     "output_type": "execute_result"
    }
   ],
   "source": [
    "q=np.array([[2,3],[3,5]])\n",
    "q\n",
    "np.transpose(q)"
   ]
  },
  {
   "cell_type": "code",
   "execution_count": 17,
   "metadata": {},
   "outputs": [
    {
     "name": "stdout",
     "output_type": "stream",
     "text": [
      "[114, 160, 60, 27]\n",
      "[74, 97, 73, 14]\n",
      "[119, 157, 112, 23]\n"
     ]
    }
   ],
   "source": [
    "# 3x3 matrix\n",
    "X = [[12,7,3],\n",
    "    [4 ,5,6],\n",
    "    [7 ,8,9]]\n",
    "# 3x4 matrix\n",
    "Y = [[5,8,1,2],\n",
    "    [6,7,3,0],\n",
    "    [4,5,9,1]]\n",
    "# result is 3x4\n",
    "result = [[0,0,0,0],\n",
    "         [0,0,0,0],\n",
    "         [0,0,0,0]]\n",
    "\n",
    "# iterate through rows of X\n",
    "for i in range(len(X)):\n",
    "   # iterate through columns of Y\n",
    "   for j in range(len(Y[0])):\n",
    "       # iterate through rows of Y\n",
    "       for k in range(len(Y)):\n",
    "           result[i][j] += X[i][k] * Y[k][j]\n",
    "\n",
    "for r in result:\n",
    "   print(r)"
   ]
  },
  {
   "cell_type": "code",
   "execution_count": 25,
   "metadata": {},
   "outputs": [
    {
     "data": {
      "text/plain": [
       "array([[ 0,  1,  2,  3,  4],\n",
       "       [ 5,  6,  7,  8,  9],\n",
       "       [10, 11, 12, 13, 14],\n",
       "       [15, 16, 17, 18, 19]])"
      ]
     },
     "execution_count": 25,
     "metadata": {},
     "output_type": "execute_result"
    }
   ],
   "source": [
    "a=np.array([range(5),range(5,10),range(10,15),range(15,20)])\n",
    "b=np.array([range(4),range(4,8),range(8,12),range(12,16),range(16,20)])\n",
    "a"
   ]
  },
  {
   "cell_type": "code",
   "execution_count": 30,
   "metadata": {},
   "outputs": [
    {
     "data": {
      "text/plain": [
       "array([[ 0,  1,  2,  3,  4],\n",
       "       [ 5,  6,  7,  8,  9],\n",
       "       [10, 11, 12, 13, 14],\n",
       "       [15, 16, 17, 18, 19]])"
      ]
     },
     "execution_count": 30,
     "metadata": {},
     "output_type": "execute_result"
    }
   ],
   "source": [
    "c=(a.transpose()).transpose()\n",
    "c"
   ]
  },
  {
   "cell_type": "code",
   "execution_count": 53,
   "metadata": {},
   "outputs": [],
   "source": [
    "e=a.transpose()\n",
    "t=b.transpose()"
   ]
  },
  {
   "cell_type": "code",
   "execution_count": 5,
   "metadata": {},
   "outputs": [],
   "source": [
    "num=153\n",
    "copy=num\n",
    "for i in(num>0,num/10):\n",
    "    div=num%10\n",
    "    sum=sum+(div*div*div)\n",
    "    if(copy==sum):\n",
    "        print(\"sum\")"
   ]
  },
  {
   "cell_type": "code",
   "execution_count": null,
   "metadata": {},
   "outputs": [],
   "source": []
  }
 ],
 "metadata": {
  "kernelspec": {
   "display_name": "Python 2",
   "language": "python",
   "name": "python2"
  },
  "language_info": {
   "codemirror_mode": {
    "name": "ipython",
    "version": 2
   },
   "file_extension": ".py",
   "mimetype": "text/x-python",
   "name": "python",
   "nbconvert_exporter": "python",
   "pygments_lexer": "ipython2",
   "version": "2.7.15"
  }
 },
 "nbformat": 4,
 "nbformat_minor": 2
}
